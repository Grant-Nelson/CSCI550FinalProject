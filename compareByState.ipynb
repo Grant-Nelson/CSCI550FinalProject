{
 "cells": [
  {
   "cell_type": "code",
   "execution_count": 1,
   "metadata": {},
   "outputs": [
    {
     "ename": "ModuleNotFoundError",
     "evalue": "No module named 'powerlaw'",
     "output_type": "error",
     "traceback": [
      "\u001b[0;31m---------------------------------------------------------------------------\u001b[0m",
      "\u001b[0;31mModuleNotFoundError\u001b[0m                       Traceback (most recent call last)",
      "\u001b[0;32m<ipython-input-1-4d8c456bfe11>\u001b[0m in \u001b[0;36m<module>\u001b[0;34m()\u001b[0m\n\u001b[1;32m      1\u001b[0m \u001b[0;32mimport\u001b[0m \u001b[0msqlite3\u001b[0m\u001b[0;34m\u001b[0m\u001b[0m\n\u001b[0;32m----> 2\u001b[0;31m \u001b[0;32mimport\u001b[0m \u001b[0mpowerlaw\u001b[0m\u001b[0;34m\u001b[0m\u001b[0m\n\u001b[0m\u001b[1;32m      3\u001b[0m \u001b[0;32mimport\u001b[0m \u001b[0mnumpy\u001b[0m \u001b[0;32mas\u001b[0m \u001b[0mnp\u001b[0m\u001b[0;34m\u001b[0m\u001b[0m\n\u001b[1;32m      4\u001b[0m \u001b[0mnp\u001b[0m\u001b[0;34m.\u001b[0m\u001b[0mseterr\u001b[0m\u001b[0;34m(\u001b[0m\u001b[0mdivide\u001b[0m\u001b[0;34m=\u001b[0m\u001b[0;34m'ignore'\u001b[0m\u001b[0;34m,\u001b[0m \u001b[0minvalid\u001b[0m\u001b[0;34m=\u001b[0m\u001b[0;34m'ignore'\u001b[0m\u001b[0;34m)\u001b[0m\u001b[0;34m\u001b[0m\u001b[0m\n",
      "\u001b[0;31mModuleNotFoundError\u001b[0m: No module named 'powerlaw'"
     ]
    }
   ],
   "source": [
    "import sqlite3\n",
    "import powerlaw\n",
    "import numpy as np\n",
    "np.seterr(divide='ignore', invalid='ignore')"
   ]
  },
  {
   "cell_type": "code",
   "execution_count": null,
   "metadata": {},
   "outputs": [],
   "source": [
    "# Constants\n",
    "sqlite3_filename = \"FPA_FOD_20170508.sqlite\""
   ]
  },
  {
   "cell_type": "code",
   "execution_count": null,
   "metadata": {},
   "outputs": [],
   "source": [
    "conn = sqlite3.connect(sqlite3_filename)\n",
    "cur = conn.cursor()\n",
    "cur.execute('SELECT FIRE_SIZE, STATE FROM fires')\n",
    "tableData = cur.fetchall()\n",
    "conn.close()"
   ]
  },
  {
   "cell_type": "code",
   "execution_count": null,
   "metadata": {},
   "outputs": [],
   "source": [
    "# Collect a list of all state abbreviations\n",
    "states = {}\n",
    "for i in range(len(tableData)):\n",
    "    states[tableData[i][1]] = True"
   ]
  },
  {
   "cell_type": "code",
   "execution_count": null,
   "metadata": {},
   "outputs": [],
   "source": [
    "for state in states:"
   ]
  },
  {
   "cell_type": "code",
   "execution_count": null,
   "metadata": {},
   "outputs": [],
   "source": [
    "    # Collect all the data for the current state\n",
    "    data = []\n",
    "    minSize = maxSize = tableData[0][0]\n",
    "    for tableRow in tableData:\n",
    "        if tableRow[1] == state:\n",
    "            size = tableRow[0]\n",
    "            minSize = min(minSize, size)\n",
    "            maxSize = max(maxSize, size)\n",
    "            data.append(size)"
   ]
  },
  {
   "cell_type": "code",
   "execution_count": null,
   "metadata": {},
   "outputs": [],
   "source": [
    "    # Get the powerlaw fit for the current state\n",
    "    results = powerlaw.Fit(data)"
   ]
  },
  {
   "cell_type": "code",
   "execution_count": null,
   "metadata": {},
   "outputs": [],
   "source": [
    "    # Get all the data over the x min result\n",
    "    overXMinData = []\n",
    "    for size in data:\n",
    "        if size > results.xmin:\n",
    "            overXMinData.append(size)"
   ]
  },
  {
   "cell_type": "code",
   "execution_count": null,
   "metadata": {},
   "outputs": [],
   "source": [
    "    # Print results of the fit\n",
    "    print(\"count:\", len(data))\n",
    "    print(\"overXMin:\", len(overXMinData))\n",
    "    print(\"min:\", minSize)\n",
    "    print(\"max:\", maxSize)\n",
    "    print(\"alpha:\", results.alpha)\n",
    "    print(\"sigma:\", results.sigma)\n",
    "    print(\"xmin:\", results.xmin)"
   ]
  },
  {
   "cell_type": "code",
   "execution_count": null,
   "metadata": {},
   "outputs": [],
   "source": [
    "    # Compare against other distributions\n",
    "    # R is the loglikelihood ratio between the two candidate distributions.\n",
    "    # If R > 0, then the data is more likely to be in the first distribution.\n",
    "    # If R < 0, then the data is more likely to be in the second distribution.\n",
    "    # normalized_ratio=True divides R by (sigma*sqrt(n))\n",
    "    # p is the significance value for the identified direction (i.e., for R > 0 or for R < 0)\n",
    "    for other in results.supported_distributions:\n",
    "        R, p = results.distribution_compare('power_law', other, normalized_ratio=True)\n",
    "        print(other+\":\")\n",
    "        print(\"   R:\", R)\n",
    "        print(\"   p:\", p)"
   ]
  }
 ],
 "metadata": {
  "kernelspec": {
   "display_name": "Python 3",
   "language": "python",
   "name": "python3"
  },
  "language_info": {
   "codemirror_mode": {
    "name": "ipython",
    "version": 3
   },
   "file_extension": ".py",
   "mimetype": "text/x-python",
   "name": "python",
   "nbconvert_exporter": "python",
   "pygments_lexer": "ipython3",
   "version": "3.7.0"
  }
 },
 "nbformat": 4,
 "nbformat_minor": 2
}
