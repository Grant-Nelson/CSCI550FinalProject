{
 "cells": [
  {
   "cell_type": "code",
   "execution_count": 1,
   "metadata": {},
   "outputs": [],
   "source": [
    "import sqlite3\n",
    "import pandas as pd\n",
    "import numpy as np\n",
    "import colorcet as cc\n",
    "from bokeh.plotting import figure, output_file, show"
   ]
  },
  {
   "cell_type": "code",
   "execution_count": 2,
   "metadata": {},
   "outputs": [],
   "source": [
    "# Constants\n",
    "sqlite_file = \"FPA_FOD_20170508.sqlite\"\n",
    "\n",
    "latMax = 50.0  # 50° North\n",
    "latMin = 25.0  # 25° North\n",
    "latRange = latMax-latMin\n",
    "\n",
    "lonMax = -60.0  # 60° West\n",
    "lonMin = -130.0 # 130° West\n",
    "lonRange = lonMax-lonMin\n",
    "\n",
    "width = 1400\n",
    "height = 800\n",
    "\n",
    "latBucketNum = int(latRange*4.0);\n",
    "lonBucketNum = int(lonRange*4.0);\n",
    "\n",
    "radiiMax = 2.0\n",
    "radiiMin = 0.0\n",
    "radiiRange = radiiMax - radiiMin"
   ]
  },
  {
   "cell_type": "code",
   "execution_count": 3,
   "metadata": {},
   "outputs": [],
   "source": [
    "# Create buckets for the data\n",
    "sizeSumBuckets = [[0.0 for j in range(lonBucketNum)] for i in range(latBucketNum)]\n",
    "countBuckets = [[0 for j in range(lonBucketNum)] for i in range(latBucketNum)]\n",
    "sizeAvgBuckets = [[0.0 for j in range(lonBucketNum)] for i in range(latBucketNum)]"
   ]
  },
  {
   "cell_type": "code",
   "execution_count": 4,
   "metadata": {},
   "outputs": [],
   "source": [
    "# Load wildfire data in to the data array.\n",
    "conn = sqlite3.connect(sqlite_file)\n",
    "cur = conn.cursor()\n",
    "cur.execute('SELECT LATITUDE, LONGITUDE, FIRE_SIZE FROM fires')\n",
    "data = cur.fetchall()\n",
    "conn.close()"
   ]
  },
  {
   "cell_type": "code",
   "execution_count": 5,
   "metadata": {},
   "outputs": [],
   "source": [
    "# Put all the data into buckets\n",
    "for entries in data:\n",
    "    lat = entries[0]\n",
    "    lon = entries[1]\n",
    "    size = entries[2]\n",
    "    if lat >= latMin and lat <= latMax and lon >= lonMin and lon <= lonMax:\n",
    "        i = int((lat-latMin)/latRange * (latBucketNum-1))\n",
    "        j = int((lon-lonMin)/lonRange * (lonBucketNum-1))\n",
    "        sizeSumBuckets[i][j] += size\n",
    "        countBuckets[i][j] += 1"
   ]
  },
  {
   "cell_type": "code",
   "execution_count": 6,
   "metadata": {},
   "outputs": [],
   "source": [
    "# Get maximum size of fire average for the buckets\n",
    "maxSizeAvg = 0.0\n",
    "for i in range(latBucketNum):\n",
    "    for j in range(lonBucketNum):\n",
    "        count = countBuckets[i][j]\n",
    "        if count > 0:\n",
    "            sizeAvg = sizeSumBuckets[i][j]/count\n",
    "            sizeAvgBuckets[i][j] = sizeAvg\n",
    "            maxSizeAvg = max(maxSizeAvg, sizeAvg)"
   ]
  },
  {
   "cell_type": "code",
   "execution_count": 7,
   "metadata": {},
   "outputs": [],
   "source": [
    "# Get data out of buckets and prepare to plot it.\n",
    "latResults = []\n",
    "lonResults = []\n",
    "radiiResults = []\n",
    "for i in range(latBucketNum):\n",
    "    for j in range(lonBucketNum):\n",
    "        sizeAvg = sizeAvgBuckets[i][j]\n",
    "        if sizeAvg > 0.0:\n",
    "            lat = i/float(latBucketNum-1) * latRange + latMin\n",
    "            lon = j/float(lonBucketNum-1) * lonRange + lonMin\n",
    "            radii = pow(sizeAvg/maxSizeAvg, 0.5) * radiiRange + radiiMin\n",
    "            \n",
    "            latResults.append(lat)\n",
    "            lonResults.append(lon)\n",
    "            radiiResults.append(radii)"
   ]
  },
  {
   "cell_type": "code",
   "execution_count": 8,
   "metadata": {},
   "outputs": [],
   "source": [
    "# Plot\n",
    "output_file(\"fireSizeAvg.html\", title=\"fire size average\", mode=\"cdn\")\n",
    "\n",
    "TOOLS = \"crosshair,pan,wheel_zoom,box_zoom,reset,box_select,lasso_select\"\n",
    "p = figure(tools=TOOLS, x_range=(lonMin, lonMax), y_range=(latMin, latMax), width=width, height=height)\n",
    "p.circle(lonResults, latResults, radius=radiiResults, fill_color=\"#000000\", fill_alpha=0.4, line_color=None)\n",
    "\n",
    "show(p)"
   ]
  }
 ],
 "metadata": {
  "kernelspec": {
   "display_name": "Python 2",
   "language": "python",
   "name": "python2"
  },
  "language_info": {
   "codemirror_mode": {
    "name": "ipython",
    "version": 2
   },
   "file_extension": ".py",
   "mimetype": "text/x-python",
   "name": "python",
   "nbconvert_exporter": "python",
   "pygments_lexer": "ipython2",
   "version": "2.7.15"
  }
 },
 "nbformat": 4,
 "nbformat_minor": 2
}
