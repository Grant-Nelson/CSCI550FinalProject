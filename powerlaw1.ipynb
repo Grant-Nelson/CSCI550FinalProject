{
 "cells": [
  {
   "cell_type": "code",
   "execution_count": 1,
   "metadata": {
    "collapsed": true
   },
   "outputs": [],
   "source": [
    "import sqlite3\n",
    "import powerlaw\n",
    "import numpy as np"
   ]
  },
  {
   "cell_type": "code",
   "execution_count": 2,
   "metadata": {
    "collapsed": true
   },
   "outputs": [],
   "source": [
    "sqlite3_filename = \"188-million-us-wildfires\\\\FPA_FOD_20170508.sqlite\""
   ]
  },
  {
   "cell_type": "code",
   "execution_count": 4,
   "metadata": {
    "collapsed": true
   },
   "outputs": [],
   "source": [
    "conn = sqlite3.connect(sqlite3_filename)\n",
    "cur = conn.cursor()  # ?\n",
    "#cur.execute('SELECT LONGITUDE, LATITUDE, FIRE_SIZE FROM fires')\n",
    "cur.execute('SELECT FIRE_SIZE FROM fires')\n",
    "tableData = cur.fetchall()\n",
    "conn.close()"
   ]
  },
  {
   "cell_type": "code",
   "execution_count": 18,
   "metadata": {},
   "outputs": [
    {
     "data": {
      "text/plain": [
       "[(0.1,), (0.25,), (0.1,), (0.1,), (0.1,)]"
      ]
     },
     "execution_count": 18,
     "metadata": {},
     "output_type": "execute_result"
    }
   ],
   "source": [
    "tableData[:5]"
   ]
  },
  {
   "cell_type": "code",
   "execution_count": 20,
   "metadata": {},
   "outputs": [],
   "source": [
    "# Here we clean up our list of data a little bit, and find the minimum-sized fire and the maximum-sized fire.\n",
    "data = []\n",
    "minSize = maxSize = tableData[0][0]\n",
    "for i in range(len(tableData)):\n",
    "    size = tableData[i][0]\n",
    "    minSize = min(minSize, size)\n",
    "    maxSize = max(maxSize, size)\n",
    "    data.append(size)"
   ]
  },
  {
   "cell_type": "code",
   "execution_count": 26,
   "metadata": {},
   "outputs": [
    {
     "data": {
      "text/plain": [
       "[0.1, 0.25, 0.1, 0.1, 0.1]"
      ]
     },
     "execution_count": 26,
     "metadata": {},
     "output_type": "execute_result"
    }
   ],
   "source": [
    "data[:5]"
   ]
  },
  {
   "cell_type": "code",
   "execution_count": 46,
   "metadata": {},
   "outputs": [
    {
     "name": "stderr",
     "output_type": "stream",
     "text": [
      "Calculating best minimal value for power law fit\n"
     ]
    }
   ],
   "source": [
    "np.seterr(divide='ignore', invalid='ignore')\n",
    "subset_of_data = []\n",
    "for i in range(len(data)):\n",
    "    if i % 5 == 0:\n",
    "        subset_of_data.append(data[i])\n",
    "results = powerlaw.Fit(subset_of_data)"
   ]
  },
  {
   "cell_type": "code",
   "execution_count": 47,
   "metadata": {},
   "outputs": [
    {
     "name": "stdout",
     "output_type": "stream",
     "text": [
      "count: 1880465\n",
      "overXMin: 29572\n",
      "min: 1e-05\n",
      "max: 606945.0\n",
      "alpha: 1.69568217766\n",
      "sigma: 0.009053175231\n",
      "xmin: 234.0\n"
     ]
    }
   ],
   "source": [
    "overXMin = 0\n",
    "for i in range(len(data)):\n",
    "    if data[i] > results.xmin:\n",
    "        overXMin += 1\n",
    "\n",
    "print(\"count:\", len(data))\n",
    "print(\"overXMin:\", overXMin)\n",
    "print(\"min:\", minSize)\n",
    "print(\"max:\", maxSize)\n",
    "print(\"alpha:\", results.alpha)\n",
    "print(\"sigma:\", results.sigma)\n",
    "print(\"xmin:\", results.xmin)"
   ]
  },
  {
   "cell_type": "code",
   "execution_count": 34,
   "metadata": {},
   "outputs": [],
   "source": [
    "#print(results.power_law.alpha)"
   ]
  },
  {
   "cell_type": "code",
   "execution_count": 36,
   "metadata": {},
   "outputs": [],
   "source": [
    "#print(results.power_law.xmin)"
   ]
  },
  {
   "cell_type": "code",
   "execution_count": 48,
   "metadata": {
    "collapsed": true
   },
   "outputs": [],
   "source": [
    "R, p = results.distribution_compare('power_law', 'lognormal')"
   ]
  },
  {
   "cell_type": "code",
   "execution_count": 49,
   "metadata": {},
   "outputs": [
    {
     "data": {
      "text/plain": [
       "-16.314881045006722"
      ]
     },
     "execution_count": 49,
     "metadata": {},
     "output_type": "execute_result"
    }
   ],
   "source": [
    "# R is the loglikelihood ratio between the two candidate distributions.\n",
    "# If R > 0, then the data is more likely to be in the first distribution.\n",
    "# If R < 0, then the data is more likely to be in the second distribution.\n",
    "R"
   ]
  },
  {
   "cell_type": "code",
   "execution_count": 50,
   "metadata": {},
   "outputs": [
    {
     "data": {
      "text/plain": [
       "0.00017790668395502535"
      ]
     },
     "execution_count": 50,
     "metadata": {},
     "output_type": "execute_result"
    }
   ],
   "source": [
    "# p is the significance value for the identified direction (i.e., for R > 0 or for R < 0)\n",
    "p"
   ]
  },
  {
   "cell_type": "code",
   "execution_count": null,
   "metadata": {
    "collapsed": true
   },
   "outputs": [],
   "source": []
  }
 ],
 "metadata": {
  "kernelspec": {
   "display_name": "Python 3",
   "language": "python",
   "name": "python3"
  },
  "language_info": {
   "codemirror_mode": {
    "name": "ipython",
    "version": 3
   },
   "file_extension": ".py",
   "mimetype": "text/x-python",
   "name": "python",
   "nbconvert_exporter": "python",
   "pygments_lexer": "ipython3",
   "version": "3.6.3"
  }
 },
 "nbformat": 4,
 "nbformat_minor": 2
}
