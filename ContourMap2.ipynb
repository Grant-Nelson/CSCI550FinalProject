{
 "cells": [
  {
   "cell_type": "code",
   "execution_count": 1,
   "metadata": {},
   "outputs": [],
   "source": [
    "import sqlite3\n",
    "import pandas as pd\n",
    "import numpy as np\n",
    "import colorcet as cc\n",
    "from bokeh.plotting import figure, output_file, show"
   ]
  },
  {
   "cell_type": "code",
   "execution_count": 2,
   "metadata": {},
   "outputs": [],
   "source": [
    "# Constants\n",
    "sqlite_file = \"FPA_FOD_20170508.sqlite\"\n",
    "\n",
    "latMax = 50.0  # 50° North\n",
    "latMin = 25.0  # 25° North\n",
    "latRange = latMax-latMin\n",
    "\n",
    "lonMax = -60.0  # 60° West\n",
    "lonMin = -130.0 # 130° West\n",
    "lonRange = lonMax-lonMin\n",
    "\n",
    "width = 1400\n",
    "height = 800\n",
    "\n",
    "latBucketNum = int(latRange*10.0);\n",
    "lonBucketNum = int(lonRange*10.0);"
   ]
  },
  {
   "cell_type": "code",
   "execution_count": 3,
   "metadata": {},
   "outputs": [],
   "source": [
    "# Create buckets for the data\n",
    "scaledLatBuckets = [[0.0 for j in range(lonBucketNum)] for i in range(latBucketNum)]\n",
    "scaledLotBuckets = [[0.0 for j in range(lonBucketNum)] for i in range(latBucketNum)]\n",
    "sizeSumBuckets = [[0.0 for j in range(lonBucketNum)] for i in range(latBucketNum)]\n",
    "countBuckets = [[0 for j in range(lonBucketNum)] for i in range(latBucketNum)]\n",
    "sizeAvgBuckets = [[0.0 for j in range(lonBucketNum)] for i in range(latBucketNum)]\n",
    "latBuckets = [[0.0 for j in range(lonBucketNum)] for i in range(latBucketNum)]\n",
    "lotBuckets = [[0.0 for j in range(lonBucketNum)] for i in range(latBucketNum)]"
   ]
  },
  {
   "cell_type": "code",
   "execution_count": 4,
   "metadata": {},
   "outputs": [],
   "source": [
    "# Load wildfire data in to the data array.\n",
    "conn = sqlite3.connect(sqlite_file)\n",
    "cur = conn.cursor()\n",
    "cur.execute('SELECT LATITUDE, LONGITUDE, FIRE_SIZE FROM fires')\n",
    "data = cur.fetchall()\n",
    "conn.close()"
   ]
  },
  {
   "cell_type": "code",
   "execution_count": 5,
   "metadata": {},
   "outputs": [],
   "source": [
    "# Put all the data into buckets\n",
    "for entries in data:\n",
    "    lat = entries[0]\n",
    "    lon = entries[1]\n",
    "    size = entries[2]\n",
    "    if lat >= latMin and lat <= latMax and lon >= lonMin and lon <= lonMax:\n",
    "        i = int((lat-latMin)/latRange * (latBucketNum-1))\n",
    "        j = int((lon-lonMin)/lonRange * (lonBucketNum-1))\n",
    "        scaledLatBuckets[i][j] += size*lat\n",
    "        scaledLotBuckets[i][j] += size*lon\n",
    "        sizeSumBuckets[i][j] += size\n",
    "        countBuckets[i][j] += 1"
   ]
  },
  {
   "cell_type": "code",
   "execution_count": 6,
   "metadata": {},
   "outputs": [],
   "source": [
    "# Get maximum size of fire average for the buckets\n",
    "maxSizeAvg = 0.0\n",
    "for i in range(latBucketNum):\n",
    "    for j in range(lonBucketNum):\n",
    "        count = countBuckets[i][j]\n",
    "        if count > 0:\n",
    "            sizeAvg = sizeSumBuckets[i][j]/count\n",
    "            sizeAvgBuckets[i][j] = sizeAvg\n",
    "            maxSizeAvg = max(maxSizeAvg, sizeAvg)\n",
    "            latBuckets[i][j] = scaledLatBuckets[i][j]/sizeAvg\n",
    "            lotBuckets[i][j] = scaledLotBuckets[i][j]/sizeAvg"
   ]
  },
  {
   "cell_type": "code",
   "execution_count": 7,
   "metadata": {},
   "outputs": [],
   "source": [
    "# Get data out of buckets and prepare to plot it.\n",
    "latResults = []\n",
    "lonResults = []\n",
    "colorResults = []\n",
    "for i in range(latBucketNum):\n",
    "    for j in range(lonBucketNum):\n",
    "        sizeAvg = sizeAvgBuckets[i][j]\n",
    "        if sizeAvg > 0.0:\n",
    "            lat = latBuckets[i][j]\n",
    "            lon = lotBuckets[i][j]\n",
    "            value = pow(sizeAvg/maxSizeAvg, 0.1)\n",
    "            color = cc.fire[int(value * (len(cc.fire)-1))]\n",
    "            \n",
    "            latResults.append(lat)\n",
    "            lonResults.append(lon)\n",
    "            colorResults.append(color)"
   ]
  },
  {
   "cell_type": "code",
   "execution_count": 8,
   "metadata": {},
   "outputs": [],
   "source": [
    "# Plot\n",
    "output_file(\"fireSizeAvg.html\", title=\"fire size average\", mode=\"cdn\")\n",
    "\n",
    "TOOLS = \"crosshair,pan,wheel_zoom,box_zoom,reset,box_select,lasso_select\"\n",
    "p = figure(tools=TOOLS, x_range=(lonMin, lonMax), y_range=(latMin, latMax),\n",
    "           width=width, height=height, background_fill_color=\"#000000\")\n",
    "p.grid.grid_line_color = None\n",
    "p.circle(lonResults, latResults, radius=0.1, fill_color=colorResults, line_color=None)\n",
    "\n",
    "show(p)"
   ]
  }
 ],
 "metadata": {
  "kernelspec": {
   "display_name": "Python 2",
   "language": "python",
   "name": "python2"
  },
  "language_info": {
   "codemirror_mode": {
    "name": "ipython",
    "version": 2
   },
   "file_extension": ".py",
   "mimetype": "text/x-python",
   "name": "python",
   "nbconvert_exporter": "python",
   "pygments_lexer": "ipython2",
   "version": "2.7.15"
  }
 },
 "nbformat": 4,
 "nbformat_minor": 2
}
